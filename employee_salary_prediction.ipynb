{
 "cells": [
  {
   "cell_type": "code",
   "execution_count": 23,
   "id": "51339550-b3c7-4422-afa3-675e882f7b5d",
   "metadata": {},
   "outputs": [
    {
     "name": "stdout",
     "output_type": "stream",
     "text": [
      "\n",
      "Top 15 rows:\n",
      "    age         workclass  fnlwgt     education  educational-num  \\\n",
      "0    25           Private  226802          11th                7   \n",
      "1    38           Private   89814       HS-grad                9   \n",
      "2    28         Local-gov  336951    Assoc-acdm               12   \n",
      "3    44           Private  160323  Some-college               10   \n",
      "4    18                 ?  103497  Some-college               10   \n",
      "5    34           Private  198693          10th                6   \n",
      "6    29                 ?  227026       HS-grad                9   \n",
      "7    63  Self-emp-not-inc  104626   Prof-school               15   \n",
      "8    24           Private  369667  Some-college               10   \n",
      "9    55           Private  104996       7th-8th                4   \n",
      "10   65           Private  184454       HS-grad                9   \n",
      "11   36       Federal-gov  212465     Bachelors               13   \n",
      "12   26           Private   82091       HS-grad                9   \n",
      "13   58                 ?  299831       HS-grad                9   \n",
      "14   48           Private  279724       HS-grad                9   \n",
      "\n",
      "        marital-status         occupation   relationship   race  gender  \\\n",
      "0        Never-married  Machine-op-inspct      Own-child  Black    Male   \n",
      "1   Married-civ-spouse    Farming-fishing        Husband  White    Male   \n",
      "2   Married-civ-spouse    Protective-serv        Husband  White    Male   \n",
      "3   Married-civ-spouse  Machine-op-inspct        Husband  Black    Male   \n",
      "4        Never-married                  ?      Own-child  White  Female   \n",
      "5        Never-married      Other-service  Not-in-family  White    Male   \n",
      "6        Never-married                  ?      Unmarried  Black    Male   \n",
      "7   Married-civ-spouse     Prof-specialty        Husband  White    Male   \n",
      "8        Never-married      Other-service      Unmarried  White  Female   \n",
      "9   Married-civ-spouse       Craft-repair        Husband  White    Male   \n",
      "10  Married-civ-spouse  Machine-op-inspct        Husband  White    Male   \n",
      "11  Married-civ-spouse       Adm-clerical        Husband  White    Male   \n",
      "12       Never-married       Adm-clerical  Not-in-family  White  Female   \n",
      "13  Married-civ-spouse                  ?        Husband  White    Male   \n",
      "14  Married-civ-spouse  Machine-op-inspct        Husband  White    Male   \n",
      "\n",
      "    capital-gain  capital-loss  hours-per-week native-country income  \n",
      "0              0             0              40  United-States  <=50K  \n",
      "1              0             0              50  United-States  <=50K  \n",
      "2              0             0              40  United-States   >50K  \n",
      "3           7688             0              40  United-States   >50K  \n",
      "4              0             0              30  United-States  <=50K  \n",
      "5              0             0              30  United-States  <=50K  \n",
      "6              0             0              40  United-States  <=50K  \n",
      "7           3103             0              32  United-States   >50K  \n",
      "8              0             0              40  United-States  <=50K  \n",
      "9              0             0              10  United-States  <=50K  \n",
      "10          6418             0              40  United-States   >50K  \n",
      "11             0             0              40  United-States  <=50K  \n",
      "12             0             0              39  United-States  <=50K  \n",
      "13             0             0              35  United-States  <=50K  \n",
      "14          3103             0              48  United-States   >50K  \n",
      "\n",
      "Shape of the dataset: (48842, 15)\n",
      "\n",
      "Null values in each column:\n",
      "age                0\n",
      "workclass          0\n",
      "fnlwgt             0\n",
      "education          0\n",
      "educational-num    0\n",
      "marital-status     0\n",
      "occupation         0\n",
      "relationship       0\n",
      "race               0\n",
      "gender             0\n",
      "capital-gain       0\n",
      "capital-loss       0\n",
      "hours-per-week     0\n",
      "native-country     0\n",
      "income             0\n",
      "dtype: int64\n"
     ]
    }
   ],
   "source": [
    "# Step 1: Load the dataset\n",
    "import pandas as pd\n",
    "\n",
    "data = pd.read_csv(\"adult 3.csv\")\n",
    "\n",
    "print(\"\\nTop 15 rows:\")\n",
    "print(data.head(15))\n",
    "\n",
    "print(\"\\nShape of the dataset:\", data.shape)\n",
    "\n",
    "print(\"\\nNull values in each column:\")\n",
    "print(data.isnull().sum())\n"
   ]
  },
  {
   "cell_type": "code",
   "execution_count": 24,
   "id": "f307324e-6273-4df2-9b1e-e6f1f0138dc7",
   "metadata": {},
   "outputs": [
    {
     "name": "stdout",
     "output_type": "stream",
     "text": [
      "\n",
      "Workclass values:\n",
      "workclass\n",
      "Private             33906\n",
      "Self-emp-not-inc     3862\n",
      "Local-gov            3136\n",
      "Unknown              2799\n",
      "State-gov            1981\n",
      "Self-emp-inc         1695\n",
      "Federal-gov          1432\n",
      "Without-pay            21\n",
      "Never-worked           10\n",
      "Name: count, dtype: int64\n",
      "\n",
      "Occupation values:\n",
      "occupation\n",
      "Prof-specialty       6172\n",
      "Craft-repair         6112\n",
      "Exec-managerial      6086\n",
      "Adm-clerical         5611\n",
      "Sales                5504\n",
      "Other-service        4923\n",
      "Machine-op-inspct    3022\n",
      "Unknown              2809\n",
      "Transport-moving     2355\n",
      "Handlers-cleaners    2072\n",
      "Farming-fishing      1490\n",
      "Tech-support         1446\n",
      "Protective-serv       983\n",
      "Priv-house-serv       242\n",
      "Armed-Forces           15\n",
      "Name: count, dtype: int64\n",
      "\n",
      "Native-country values:\n",
      "native-country\n",
      "United-States                 43832\n",
      "Mexico                          951\n",
      "Unknown                         857\n",
      "Philippines                     295\n",
      "Germany                         206\n",
      "Puerto-Rico                     184\n",
      "Canada                          182\n",
      "El-Salvador                     155\n",
      "India                           151\n",
      "Cuba                            138\n",
      "England                         127\n",
      "China                           122\n",
      "South                           115\n",
      "Jamaica                         106\n",
      "Italy                           105\n",
      "Dominican-Republic              103\n",
      "Japan                            92\n",
      "Guatemala                        88\n",
      "Poland                           87\n",
      "Vietnam                          86\n",
      "Columbia                         85\n",
      "Haiti                            75\n",
      "Portugal                         67\n",
      "Taiwan                           65\n",
      "Iran                             59\n",
      "Nicaragua                        49\n",
      "Greece                           49\n",
      "Peru                             46\n",
      "Ecuador                          45\n",
      "France                           38\n",
      "Ireland                          37\n",
      "Thailand                         30\n",
      "Hong                             30\n",
      "Cambodia                         28\n",
      "Trinadad&Tobago                  27\n",
      "Laos                             23\n",
      "Outlying-US(Guam-USVI-etc)       23\n",
      "Yugoslavia                       23\n",
      "Scotland                         21\n",
      "Honduras                         20\n",
      "Hungary                          19\n",
      "Holand-Netherlands                1\n",
      "Name: count, dtype: int64\n"
     ]
    }
   ],
   "source": [
    "# Step 2: Replace unclear values ('?') with 'Unknown'\n",
    "data['workclass'] = data['workclass'].replace('?', 'Unknown')\n",
    "data['occupation'] = data['occupation'].replace('?', 'Unknown')\n",
    "data['native-country'] = data['native-country'].replace('?', 'Unknown')\n",
    "\n",
    "print(\"\\nWorkclass values:\")\n",
    "print(data['workclass'].value_counts())\n",
    "\n",
    "print(\"\\nOccupation values:\")\n",
    "print(data['occupation'].value_counts())\n",
    "\n",
    "print(\"\\nNative-country values:\")\n",
    "print(data['native-country'].value_counts())\n"
   ]
  },
  {
   "cell_type": "code",
   "execution_count": 25,
   "id": "0e5f8c54-9a09-4880-be65-95bfcff1bff4",
   "metadata": {},
   "outputs": [],
   "source": [
    "# Step 3: Remove irrelevant or very rare categories\n",
    "data = data[data['workclass'] != 'Without-pay']\n",
    "data = data[data['workclass'] != 'Never-worked']\n",
    "data = data[data['education'] != '1st-4th']\n",
    "data = data[data['education'] != '5th-6th']\n",
    "data = data[data['education'] != 'Preschool']\n"
   ]
  },
  {
   "cell_type": "code",
   "execution_count": 26,
   "id": "01b15c0e-389d-4fa4-980d-fee9c6429572",
   "metadata": {},
   "outputs": [
    {
     "data": {
      "image/png": "[encoded data removed]",
      "text/plain": [
       "<Figure size 640x480 with 1 Axes>"
      ]
     },
     "metadata": {},
     "output_type": "display_data"
    },
    {
     "name": "stdout",
     "output_type": "stream",
     "text": [
      "\n",
      "Shape after removing outliers and rare categories: (47619, 15)\n"
     ]
    }
   ],
   "source": [
    "# Step 4: Handle outliers in age\n",
    "import matplotlib.pyplot as plt\n",
    "\n",
    "plt.boxplot(data['age'])\n",
    "plt.title(\"Boxplot of Age\")\n",
    "plt.ylabel(\"Age\")\n",
    "plt.show()\n",
    "\n",
    "data = data[(data['age'] >= 17) & (data['age'] <= 75)]\n",
    "\n",
    "print(\"\\nShape after removing outliers and rare categories:\", data.shape)\n"
   ]
  },
  {
   "cell_type": "code",
   "execution_count": 27,
   "id": "a0918a29-963a-4212-819e-6974c2a65645",
   "metadata": {},
   "outputs": [],
   "source": [
    "# Step 5: Drop 'education' column (already covered by 'education-num')\n",
    "data = data.drop(columns=['education'])\n"
   ]
  },
  {
   "cell_type": "code",
   "execution_count": 28,
   "id": "0077943d-36e5-42c3-9085-4c6a0dc7e6ac",
   "metadata": {},
   "outputs": [
    {
     "name": "stdout",
     "output_type": "stream",
     "text": [
      "\n",
      "Shape after removing duplicates: (47574, 14)\n"
     ]
    }
   ],
   "source": [
    "# Step 6: Drop duplicate rows\n",
    "data = data.drop_duplicates()\n",
    "print(\"\\nShape after removing duplicates:\", data.shape)\n"
   ]
  },
  {
   "cell_type": "code",
   "execution_count": 29,
   "id": "328eddb6-6949-47f0-a6cd-e9e76e5e6b89",
   "metadata": {},
   "outputs": [
    {
     "name": "stdout",
     "output_type": "stream",
     "text": [
      "All LabelEncoders have been saved successfully!\n"
     ]
    }
   ],
   "source": [
    "# Step 7: Encode categorical columns\n",
    "from sklearn.preprocessing import LabelEncoder\n",
    "\n",
    "# Define categorical columns\n",
    "categorical_cols = ['workclass', 'marital-status', 'occupation',\n",
    "                    'relationship', 'race', 'gender', 'native-country']\n",
    "\n",
    "# Dictionary to hold encoders\n",
    "encoders = {}\n",
    "\n",
    "# Encode and save each encoder\n",
    "for col in categorical_cols:\n",
    "    le = LabelEncoder()\n",
    "    data[col] = le.fit_transform(data[col])\n",
    "    encoders[col] = le\n",
    "    joblib.dump(le, f\"{col}_encoder.pkl\")  # Save encoder\n",
    "\n",
    "print(\"All LabelEncoders have been saved successfully!\")\n"
   ]
  },
  {
   "cell_type": "code",
   "execution_count": 30,
   "id": "343bff30-040a-4d5e-8ddc-42da6a4bcded",
   "metadata": {},
   "outputs": [
    {
     "name": "stdout",
     "output_type": "stream",
     "text": [
      "\n",
      "X shape: (47574, 13)\n",
      "Y shape: (47574,)\n"
     ]
    }
   ],
   "source": [
    "# Step 8: Split data into features (X) and target (Y)\n",
    "X = data.drop(columns=['income'])\n",
    "Y = data['income']\n",
    "\n",
    "print(\"\\nX shape:\", X.shape)\n",
    "print(\"Y shape:\", Y.shape)\n"
   ]
  },
  {
   "cell_type": "code",
   "execution_count": 31,
   "id": "00507805-1f6d-4977-8c00-d0041ba34849",
   "metadata": {},
   "outputs": [
    {
     "name": "stdout",
     "output_type": "stream",
     "text": [
      "\n",
      "Scaled feature sample (first 5 rows):\n",
      "        age  workclass    fnlwgt  educational-num  marital-status  occupation  \\\n",
      "0  0.137931   0.333333  0.145129         0.250000        0.666667    0.428571   \n",
      "1  0.362069   0.333333  0.052451         0.416667        0.333333    0.285714   \n",
      "2  0.189655   0.166667  0.219649         0.666667        0.333333    0.714286   \n",
      "3  0.465517   0.333333  0.100153         0.500000        0.333333    0.428571   \n",
      "4  0.017241   1.000000  0.061708         0.500000        0.666667    1.000000   \n",
      "\n",
      "   relationship  race  gender  capital-gain  capital-loss  hours-per-week  \\\n",
      "0           0.6   0.5     1.0      0.000000           0.0        0.397959   \n",
      "1           0.0   1.0     1.0      0.000000           0.0        0.500000   \n",
      "2           0.0   1.0     1.0      0.000000           0.0        0.397959   \n",
      "3           0.0   0.5     1.0      0.076881           0.0        0.397959   \n",
      "4           0.6   1.0     0.0      0.000000           0.0        0.295918   \n",
      "\n",
      "   native-country  \n",
      "0        0.926829  \n",
      "1        0.926829  \n",
      "2        0.926829  \n",
      "3        0.926829  \n",
      "4        0.926829  \n",
      "\n",
      "Training features shape: (38059, 13)\n",
      "Testing features shape: (9515, 13)\n",
      "Training labels shape: (38059,)\n",
      "Testing labels shape: (9515,)\n"
     ]
    }
   ],
   "source": [
    "# Step 9: Scale the Data and Split into Train/Test Sets\n",
    "# Scale the features so all values are between 0 and 1\n",
    "from sklearn.preprocessing import MinMaxScaler\n",
    "\n",
    "scaler = MinMaxScaler()\n",
    "X = scaler.fit_transform(X)\n",
    "\n",
    "# Show scaled features as a DataFrame\n",
    "scaled_df = pd.DataFrame(X, columns=data.drop(columns=['income']).columns)\n",
    "\n",
    "print(\"\\nScaled feature sample (first 5 rows):\")\n",
    "print(scaled_df.head())\n",
    "\n",
    "# Split the data into training and testing sets (80-20) with class balance\n",
    "from sklearn.model_selection import train_test_split\n",
    "\n",
    "xtrain, xtest, ytrain, ytest = train_test_split(X, Y, test_size=0.2, random_state=23, stratify=Y)\n",
    "\n",
    "print(\"\\nTraining features shape:\", xtrain.shape)\n",
    "print(\"Testing features shape:\", xtest.shape)\n",
    "print(\"Training labels shape:\", ytrain.shape)\n",
    "print(\"Testing labels shape:\", ytest.shape)\n"
   ]
  },
  {
   "cell_type": "code",
   "execution_count": 32,
   "id": "b951d2d7-1dbc-4c06-8219-5cb41cf522c4",
   "metadata": {},
   "outputs": [
    {
     "name": "stdout",
     "output_type": "stream",
     "text": [
      "\n",
      "KNN Accuracy on test set: 82.8 %\n"
     ]
    }
   ],
   "source": [
    "# Step 10: Train and Evaluate a K-Nearest Neighbors (KNN) Classifier\n",
    "from sklearn.neighbors import KNeighborsClassifier\n",
    "from sklearn.metrics import accuracy_score\n",
    "\n",
    "# Initialize the model\n",
    "knn = KNeighborsClassifier()\n",
    "\n",
    "# Fit the model on training data\n",
    "knn.fit(xtrain, ytrain)\n",
    "\n",
    "# Make predictions on test data\n",
    "predictions = knn.predict(xtest)\n",
    "\n",
    "# Evaluate accuracy\n",
    "accuracy = accuracy_score(ytest, predictions)\n",
    "\n",
    "print(\"\\nKNN Accuracy on test set:\", round(accuracy * 100, 2), \"%\")\n"
   ]
  },
  {
   "cell_type": "code",
   "execution_count": 33,
   "id": "25f42e45-6d1c-4ea6-9620-ea7849980fce",
   "metadata": {},
   "outputs": [
    {
     "name": "stdout",
     "output_type": "stream",
     "text": [
      "Logistic Regression Accuracy on test set: 82.62 %\n"
     ]
    }
   ],
   "source": [
    "# Step 11: Train and Evaluate Logistic Regression\n",
    "from sklearn.linear_model import LogisticRegression\n",
    "from sklearn.metrics import accuracy_score\n",
    "\n",
    "# Initialize logistic regression model\n",
    "logreg = LogisticRegression(max_iter=1000)\n",
    "\n",
    "# Train on the training data\n",
    "logreg.fit(xtrain, ytrain)\n",
    "\n",
    "# Predict on the test set\n",
    "logreg_pred = logreg.predict(xtest)\n",
    "\n",
    "# Evaluate accuracy\n",
    "logreg_acc = accuracy_score(ytest, logreg_pred)\n",
    "\n",
    "print(\"Logistic Regression Accuracy on test set:\", round(logreg_acc * 100, 2), \"%\")\n"
   ]
  },
  {
   "cell_type": "code",
   "execution_count": 34,
   "id": "e6990e01-57a4-412c-a961-ad5495376f3b",
   "metadata": {},
   "outputs": [
    {
     "name": "stdout",
     "output_type": "stream",
     "text": [
      "Decision Tree Accuracy on test set: 81.17 %\n"
     ]
    }
   ],
   "source": [
    "# Step 12: Train and Evaluate a Decision Tree Classifier\n",
    "from sklearn.tree import DecisionTreeClassifier\n",
    "from sklearn.metrics import accuracy_score\n",
    "\n",
    "# Initialize decision tree model\n",
    "dtree = DecisionTreeClassifier()\n",
    "\n",
    "# Train the model\n",
    "dtree.fit(xtrain, ytrain)\n",
    "\n",
    "# Predict on test data\n",
    "dtree_pred = dtree.predict(xtest)\n",
    "\n",
    "# Evaluate accuracy\n",
    "dtree_acc = accuracy_score(ytest, dtree_pred)\n",
    "\n",
    "print(\"Decision Tree Accuracy on test set:\", round(dtree_acc * 100, 2), \"%\")\n"
   ]
  },
  {
   "cell_type": "code",
   "execution_count": 35,
   "id": "03df9983-bf4e-4cf6-b5e1-751c21d02392",
   "metadata": {},
   "outputs": [
    {
     "name": "stdout",
     "output_type": "stream",
     "text": [
      "Random Forest Accuracy on test set: 85.85 %\n"
     ]
    }
   ],
   "source": [
    "# Step 13: Train and Evaluate a Random Forest Classifier\n",
    "from sklearn.ensemble import RandomForestClassifier\n",
    "from sklearn.metrics import accuracy_score\n",
    "\n",
    "# Initialize random forest model\n",
    "rforest = RandomForestClassifier()\n",
    "\n",
    "# Train the model\n",
    "rforest.fit(xtrain, ytrain)\n",
    "\n",
    "# Predict on test data\n",
    "rforest_pred = rforest.predict(xtest)\n",
    "\n",
    "# Evaluate accuracy\n",
    "rforest_acc = accuracy_score(ytest, rforest_pred)\n",
    "\n",
    "print(\"Random Forest Accuracy on test set:\", round(rforest_acc * 100, 2), \"%\")\n"
   ]
  },
  {
   "cell_type": "code",
   "execution_count": 36,
   "id": "fa59afec-a143-4b01-9fc4-1448df46af39",
   "metadata": {},
   "outputs": [
    {
     "name": "stdout",
     "output_type": "stream",
     "text": [
      "KNN Accuracy: 82.8 %\n",
      "Logistic Regression Accuracy: 82.62 %\n",
      "Decision Tree Accuracy: 81.17 %\n",
      "Random Forest Accuracy: 85.85 %\n"
     ]
    },
    {
     "data": {
      "image/png": "[encoded data removed]",
      "text/plain": [
       "<Figure size 640x480 with 1 Axes>"
      ]
     },
     "metadata": {},
     "output_type": "display_data"
    }
   ],
   "source": [
    "# Step 14: Compare Model Accuracies\n",
    "# Simple accuracy comparison\n",
    "print(\"KNN Accuracy:\", round(accuracy_score(ytest, predictions) * 100, 2), \"%\")\n",
    "print(\"Logistic Regression Accuracy:\", round(accuracy_score(ytest, logreg_pred) * 100, 2), \"%\")\n",
    "print(\"Decision Tree Accuracy:\", round(accuracy_score(ytest, dtree_pred) * 100, 2), \"%\")\n",
    "print(\"Random Forest Accuracy:\", round(accuracy_score(ytest, rforest_pred) * 100, 2), \"%\")\n",
    "\n",
    "import matplotlib.pyplot as plt\n",
    "\n",
    "models = ['KNN', 'LogReg', 'DecisionTree', 'RandomForest']\n",
    "scores = [\n",
    "    accuracy_score(ytest, predictions),\n",
    "    accuracy_score(ytest, logreg_pred),\n",
    "    accuracy_score(ytest, dtree_pred),\n",
    "    accuracy_score(ytest, rforest_pred)\n",
    "]\n",
    "\n",
    "plt.bar(models, [round(score * 100, 2) for score in scores])\n",
    "plt.ylabel(\"Accuracy (%)\")\n",
    "plt.title(\"Model Comparison\")\n",
    "plt.show()\n"
   ]
  },
  {
   "cell_type": "code",
   "execution_count": 37,
   "id": "9d488a43-5902-47fc-a822-7d7e19a1458f",
   "metadata": {},
   "outputs": [
    {
     "name": "stdout",
     "output_type": "stream",
     "text": [
      "Confusion Matrix:\n",
      "[[6719  479]\n",
      " [ 867 1450]]\n",
      "\n",
      "Classification Report:\n",
      "              precision    recall  f1-score   support\n",
      "\n",
      "       <=50K       0.89      0.93      0.91      7198\n",
      "        >50K       0.75      0.63      0.68      2317\n",
      "\n",
      "    accuracy                           0.86      9515\n",
      "   macro avg       0.82      0.78      0.80      9515\n",
      "weighted avg       0.85      0.86      0.85      9515\n",
      "\n"
     ]
    },
    {
     "data": {
      "image/png": "[encoded data removed]",
      "text/plain": [
       "<Figure size 640x480 with 2 Axes>"
      ]
     },
     "metadata": {},
     "output_type": "display_data"
    }
   ],
   "source": [
    "# Opting Random Forest as the best model and moving on\n",
    "# Step 15: Confusion Matrix & Classification Report (Random Forest)\n",
    "from sklearn.metrics import confusion_matrix, classification_report\n",
    "\n",
    "# Confusion Matrix\n",
    "cm = confusion_matrix(ytest, rforest_pred)\n",
    "print(\"Confusion Matrix:\")\n",
    "print(cm)\n",
    "\n",
    "# Classification Report\n",
    "report = classification_report(ytest, rforest_pred)\n",
    "print(\"\\nClassification Report:\")\n",
    "print(report)\n",
    "\n",
    "import seaborn as sns\n",
    "import matplotlib.pyplot as plt\n",
    "\n",
    "sns.heatmap(cm, annot=True, fmt='d', cmap='Blues')\n",
    "plt.xlabel(\"Predicted\")\n",
    "plt.ylabel(\"Actual\")\n",
    "plt.title(\"Random Forest Confusion Matrix\")\n",
    "plt.show()\n"
   ]
  },
  {
   "cell_type": "code",
   "execution_count": 38,
   "id": "3204b469-a653-419f-bb15-67a8fd59e11f",
   "metadata": {},
   "outputs": [
    {
     "name": "stdout",
     "output_type": "stream",
     "text": [
      "Best Parameters: {'max_depth': 20, 'min_samples_split': 5, 'n_estimators': 100}\n"
     ]
    }
   ],
   "source": [
    "#Step 16 – Tune Random Forest with GridSearchCV\n",
    "from sklearn.model_selection import GridSearchCV\n",
    "from sklearn.ensemble import RandomForestClassifier\n",
    "\n",
    "# Define parameter grid\n",
    "param_grid = {\n",
    "    'n_estimators': [50, 100],\n",
    "    'max_depth': [None, 10, 20],\n",
    "    'min_samples_split': [2, 5]\n",
    "}\n",
    "\n",
    "# Initialize the base model\n",
    "rforest = RandomForestClassifier()\n",
    "\n",
    "# Setup GridSearchCV\n",
    "grid = GridSearchCV(rforest, param_grid, cv=3, scoring='accuracy', n_jobs=-1)\n",
    "\n",
    "# Fit on training data\n",
    "grid.fit(xtrain, ytrain)\n",
    "\n",
    "# Best model after tuning\n",
    "best_model = grid.best_estimator_\n",
    "print(\"Best Parameters:\", grid.best_params_)\n"
   ]
  },
  {
   "cell_type": "code",
   "execution_count": 39,
   "id": "3b60014a-e991-4dba-b5b8-d11ca4a480a0",
   "metadata": {},
   "outputs": [
    {
     "data": {
      "text/plain": [
       "['scaler.pkl']"
      ]
     },
     "execution_count": 39,
     "metadata": {},
     "output_type": "execute_result"
    }
   ],
   "source": [
    "# Step 17: Prepare Final Model for Real-World Use\n",
    "import joblib\n",
    "\n",
    "# Save the tuned Random Forest model\n",
    "joblib.dump(best_model, \"salary_predictor_model.pkl\")\n",
    "\n",
    "# Load the model later\n",
    "loaded_model = joblib.load(\"salary_predictor_model.pkl\")\n",
    "\n",
    "joblib.dump(scaler, \"scaler.pkl\")\n",
    "\n",
    "# Predict on new preprocessed data\n",
    "# loaded_model.predict(new_data)\n"
   ]
  },
  {
   "cell_type": "code",
   "execution_count": null,
   "id": "676dcad2-8098-44dd-8c9f-4c2c59c6e859",
   "metadata": {},
   "outputs": [],
   "source": []
  }
 ],
 "metadata": {
  "kernelspec": {
   "display_name": "Python 3 (ipykernel)",
   "language": "python",
   "name": "python3"
  },
  "language_info": {
   "codemirror_mode": {
    "name": "ipython",
    "version": 3
   },
   "file_extension": ".py",
   "mimetype": "text/x-python",
   "name": "python",
   "nbconvert_exporter": "python",
   "pygments_lexer": "ipython3",
   "version": "3.13.3"
  }
 },
 "nbformat": 4,
 "nbformat_minor": 5
}
